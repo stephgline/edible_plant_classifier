{
 "cells": [
  {
   "cell_type": "code",
   "execution_count": null,
   "metadata": {},
   "outputs": [],
   "source": []
  },
  {
   "cell_type": "code",
   "execution_count": 16,
   "metadata": {},
   "outputs": [],
   "source": [
    "import pandas as pd\n",
    "import os\n",
    "import glob\n",
    "from tqdm import tqdm\n",
    "import shutil"
   ]
  },
  {
   "cell_type": "code",
   "execution_count": 18,
   "metadata": {},
   "outputs": [],
   "source": [
    "df = pd.DataFrame(columns = ['class', 'filename'])"
   ]
  },
  {
   "cell_type": "code",
   "execution_count": 22,
   "metadata": {},
   "outputs": [],
   "source": [
    "df['files'] = glob.glob(\"edible_plants/*/*.jpg\")"
   ]
  },
  {
   "cell_type": "code",
   "execution_count": 23,
   "metadata": {},
   "outputs": [],
   "source": [
    "df['class'] = df['files'].apply(lambda x: x.split('/')[1])"
   ]
  },
  {
   "cell_type": "code",
   "execution_count": 24,
   "metadata": {},
   "outputs": [],
   "source": [
    "df['filename'] = df['files'].apply(lambda x: x.split('/')[2])"
   ]
  },
  {
   "cell_type": "code",
   "execution_count": 25,
   "metadata": {},
   "outputs": [
    {
     "data": {
      "text/html": [
       "<div>\n",
       "<style scoped>\n",
       "    .dataframe tbody tr th:only-of-type {\n",
       "        vertical-align: middle;\n",
       "    }\n",
       "\n",
       "    .dataframe tbody tr th {\n",
       "        vertical-align: top;\n",
       "    }\n",
       "\n",
       "    .dataframe thead th {\n",
       "        text-align: right;\n",
       "    }\n",
       "</style>\n",
       "<table border=\"1\" class=\"dataframe\">\n",
       "  <thead>\n",
       "    <tr style=\"text-align: right;\">\n",
       "      <th></th>\n",
       "      <th>class</th>\n",
       "      <th>filename</th>\n",
       "      <th>files</th>\n",
       "    </tr>\n",
       "  </thead>\n",
       "  <tbody>\n",
       "    <tr>\n",
       "      <th>0</th>\n",
       "      <td>asiatic dayflower</td>\n",
       "      <td>19. commelina_communis_l1.jpg</td>\n",
       "      <td>edible_plants/ asiatic dayflower/19. commelina...</td>\n",
       "    </tr>\n",
       "    <tr>\n",
       "      <th>1</th>\n",
       "      <td>asiatic dayflower</td>\n",
       "      <td>40. dayflower-creamed-sm.jpg</td>\n",
       "      <td>edible_plants/ asiatic dayflower/40. dayflower...</td>\n",
       "    </tr>\n",
       "    <tr>\n",
       "      <th>2</th>\n",
       "      <td>asiatic dayflower</td>\n",
       "      <td>91. asiatic-dayflower.jpg</td>\n",
       "      <td>edible_plants/ asiatic dayflower/91. asiatic-d...</td>\n",
       "    </tr>\n",
       "    <tr>\n",
       "      <th>3</th>\n",
       "      <td>asiatic dayflower</td>\n",
       "      <td>6. 220px-c.communis_after_rain.jpg</td>\n",
       "      <td>edible_plants/ asiatic dayflower/6. 220px-c.co...</td>\n",
       "    </tr>\n",
       "    <tr>\n",
       "      <th>4</th>\n",
       "      <td>asiatic dayflower</td>\n",
       "      <td>8. dayflowerasiatic01.jpg</td>\n",
       "      <td>edible_plants/ asiatic dayflower/8. dayflowera...</td>\n",
       "    </tr>\n",
       "  </tbody>\n",
       "</table>\n",
       "</div>"
      ],
      "text/plain": [
       "                class                            filename  \\\n",
       "0   asiatic dayflower       19. commelina_communis_l1.jpg   \n",
       "1   asiatic dayflower        40. dayflower-creamed-sm.jpg   \n",
       "2   asiatic dayflower           91. asiatic-dayflower.jpg   \n",
       "3   asiatic dayflower  6. 220px-c.communis_after_rain.jpg   \n",
       "4   asiatic dayflower           8. dayflowerasiatic01.jpg   \n",
       "\n",
       "                                               files  \n",
       "0  edible_plants/ asiatic dayflower/19. commelina...  \n",
       "1  edible_plants/ asiatic dayflower/40. dayflower...  \n",
       "2  edible_plants/ asiatic dayflower/91. asiatic-d...  \n",
       "3  edible_plants/ asiatic dayflower/6. 220px-c.co...  \n",
       "4  edible_plants/ asiatic dayflower/8. dayflowera...  "
      ]
     },
     "execution_count": 25,
     "metadata": {},
     "output_type": "execute_result"
    }
   ],
   "source": [
    "df.head()"
   ]
  },
  {
   "cell_type": "code",
   "execution_count": 24,
   "metadata": {},
   "outputs": [
    {
     "data": {
      "text/plain": [
       "6111"
      ]
     },
     "execution_count": 24,
     "metadata": {},
     "output_type": "execute_result"
    }
   ],
   "source": [
    "len(df)"
   ]
  },
  {
   "cell_type": "code",
   "execution_count": 26,
   "metadata": {},
   "outputs": [
    {
     "data": {
      "text/html": [
       "<div>\n",
       "<style scoped>\n",
       "    .dataframe tbody tr th:only-of-type {\n",
       "        vertical-align: middle;\n",
       "    }\n",
       "\n",
       "    .dataframe tbody tr th {\n",
       "        vertical-align: top;\n",
       "    }\n",
       "\n",
       "    .dataframe thead th {\n",
       "        text-align: right;\n",
       "    }\n",
       "</style>\n",
       "<table border=\"1\" class=\"dataframe\">\n",
       "  <thead>\n",
       "    <tr style=\"text-align: right;\">\n",
       "      <th></th>\n",
       "      <th>class</th>\n",
       "      <th>count</th>\n",
       "    </tr>\n",
       "  </thead>\n",
       "  <tbody>\n",
       "    <tr>\n",
       "      <th>20</th>\n",
       "      <td>greenbrier</td>\n",
       "      <td>86</td>\n",
       "    </tr>\n",
       "    <tr>\n",
       "      <th>60</th>\n",
       "      <td>wintergreen</td>\n",
       "      <td>87</td>\n",
       "    </tr>\n",
       "    <tr>\n",
       "      <th>47</th>\n",
       "      <td>sheep sorrel</td>\n",
       "      <td>87</td>\n",
       "    </tr>\n",
       "    <tr>\n",
       "      <th>31</th>\n",
       "      <td>milkweed</td>\n",
       "      <td>88</td>\n",
       "    </tr>\n",
       "    <tr>\n",
       "      <th>38</th>\n",
       "      <td>pickerelweed</td>\n",
       "      <td>88</td>\n",
       "    </tr>\n",
       "  </tbody>\n",
       "</table>\n",
       "</div>"
      ],
      "text/plain": [
       "            class  count\n",
       "20     greenbrier     86\n",
       "60    wintergreen     87\n",
       "47   sheep sorrel     87\n",
       "31       milkweed     88\n",
       "38   pickerelweed     88"
      ]
     },
     "execution_count": 26,
     "metadata": {},
     "output_type": "execute_result"
    }
   ],
   "source": [
    "df.groupby(['class']).size().reset_index(name = 'count').sort_values(['count'], ascending = 1).head()"
   ]
  },
  {
   "cell_type": "code",
   "execution_count": 26,
   "metadata": {},
   "outputs": [],
   "source": [
    "def get_class(files):\n",
    "    file_class = files.split('/')[1].strip().replace(' ','_')\n",
    "    file_name = files.split('/')[2].strip().replace(' ','_')\n",
    "    return pd.Series({'class': file_class, 'filename': file_name})"
   ]
  },
  {
   "cell_type": "code",
   "execution_count": 27,
   "metadata": {},
   "outputs": [],
   "source": [
    "df[['class','filename']] = df['files'].apply(get_class)"
   ]
  },
  {
   "cell_type": "code",
   "execution_count": 28,
   "metadata": {},
   "outputs": [
    {
     "data": {
      "text/html": [
       "<div>\n",
       "<style scoped>\n",
       "    .dataframe tbody tr th:only-of-type {\n",
       "        vertical-align: middle;\n",
       "    }\n",
       "\n",
       "    .dataframe tbody tr th {\n",
       "        vertical-align: top;\n",
       "    }\n",
       "\n",
       "    .dataframe thead th {\n",
       "        text-align: right;\n",
       "    }\n",
       "</style>\n",
       "<table border=\"1\" class=\"dataframe\">\n",
       "  <thead>\n",
       "    <tr style=\"text-align: right;\">\n",
       "      <th></th>\n",
       "      <th>class</th>\n",
       "      <th>filename</th>\n",
       "      <th>files</th>\n",
       "    </tr>\n",
       "  </thead>\n",
       "  <tbody>\n",
       "    <tr>\n",
       "      <th>6106</th>\n",
       "      <td>dandelion</td>\n",
       "      <td>88._dandelion-bess_1024x1024.jpg</td>\n",
       "      <td>edible_plants/ dandelion/88. dandelion-bess_10...</td>\n",
       "    </tr>\n",
       "    <tr>\n",
       "      <th>6107</th>\n",
       "      <td>dandelion</td>\n",
       "      <td>36._photo-1496867557017-559adb93b339?ixlib=rb-...</td>\n",
       "      <td>edible_plants/ dandelion/36. photo-14968675570...</td>\n",
       "    </tr>\n",
       "    <tr>\n",
       "      <th>6108</th>\n",
       "      <td>dandelion</td>\n",
       "      <td>68._sauteed-dandelion-greens.jpg</td>\n",
       "      <td>edible_plants/ dandelion/68. sauteed-dandelion...</td>\n",
       "    </tr>\n",
       "    <tr>\n",
       "      <th>6109</th>\n",
       "      <td>dandelion</td>\n",
       "      <td>11._photo-1507644980989-d116ca3c5d89?ixlib=rb-...</td>\n",
       "      <td>edible_plants/ dandelion/11. photo-15076449809...</td>\n",
       "    </tr>\n",
       "    <tr>\n",
       "      <th>6110</th>\n",
       "      <td>dandelion</td>\n",
       "      <td>43._0011.jpg</td>\n",
       "      <td>edible_plants/ dandelion/43. 0011.jpg</td>\n",
       "    </tr>\n",
       "  </tbody>\n",
       "</table>\n",
       "</div>"
      ],
      "text/plain": [
       "          class                                           filename  \\\n",
       "6106  dandelion                   88._dandelion-bess_1024x1024.jpg   \n",
       "6107  dandelion  36._photo-1496867557017-559adb93b339?ixlib=rb-...   \n",
       "6108  dandelion                   68._sauteed-dandelion-greens.jpg   \n",
       "6109  dandelion  11._photo-1507644980989-d116ca3c5d89?ixlib=rb-...   \n",
       "6110  dandelion                                       43._0011.jpg   \n",
       "\n",
       "                                                  files  \n",
       "6106  edible_plants/ dandelion/88. dandelion-bess_10...  \n",
       "6107  edible_plants/ dandelion/36. photo-14968675570...  \n",
       "6108  edible_plants/ dandelion/68. sauteed-dandelion...  \n",
       "6109  edible_plants/ dandelion/11. photo-15076449809...  \n",
       "6110              edible_plants/ dandelion/43. 0011.jpg  "
      ]
     },
     "execution_count": 28,
     "metadata": {},
     "output_type": "execute_result"
    }
   ],
   "source": [
    "df.tail()"
   ]
  },
  {
   "cell_type": "code",
   "execution_count": null,
   "metadata": {},
   "outputs": [],
   "source": [
    "shutil.rmtree()"
   ]
  },
  {
   "cell_type": "code",
   "execution_count": 42,
   "metadata": {},
   "outputs": [
    {
     "data": {
      "text/plain": [
       "array(['asiatic_dayflower', 'curly_dock', 'bergamot', 'amaranth',\n",
       "       \"lady's_thumb\", 'purslane', 'wild_ginger', 'sumac', 'currant',\n",
       "       'watercress', 'mayapple', 'field_garlic', 'chicory', 'wapato',\n",
       "       'cow_parsnip', 'wood_sorrel', 'pokeweed', 'trout_lily',\n",
       "       'pickerelweed', 'quickweed', \"queen_anne's_lace\", 'parsnip',\n",
       "       'spicebush', 'oxeye_daisy', 'salsify', 'greenbrier', 'daylily',\n",
       "       'hopniss', 'burdock', \"false_solomon's_seal\", 'new_england_aster',\n",
       "       'hawthorn', 'chickweed', 'wineberry', 'garlic_mustard',\n",
       "       'honeywort', 'common_mallow', 'goutweed', 'shiso',\n",
       "       \"lamb's_quarters\", 'silverberry', 'pineappleweed', 'peppergrass',\n",
       "       'frangrant_sumac', 'plantain', 'elderberry', 'milkweed', 'mugwort',\n",
       "       'yarow', 'wintergreen', 'beebalm', 'epazote', 'jewelewee',\n",
       "       'nettle', \"shepherd's_purse\", 'sheep_sorrel', 'sow_thistle',\n",
       "       'juniper', 'juneberry', 'evening_primrose', 'melilot', 'thistle',\n",
       "       'henbit', 'jerusalem_artichoke', 'saltbush', 'dandelion'],\n",
       "      dtype=object)"
      ]
     },
     "execution_count": 42,
     "metadata": {},
     "output_type": "execute_result"
    }
   ],
   "source": [
    "categories = df['class'].unique()"
   ]
  },
  {
   "cell_type": "code",
   "execution_count": null,
   "metadata": {},
   "outputs": [],
   "source": [
    "shutil.copy(f)"
   ]
  },
  {
   "cell_type": "code",
   "execution_count": 54,
   "metadata": {},
   "outputs": [],
   "source": [
    "def rename_files(df, dest_dir =\"processed\"):\n",
    "    shutil.rmtree(dest_dir, ignore_errors= True)\n",
    "    os.makedirs(dest_dir, exist_ok= True)\n",
    "    for i in tqdm(df['class'].unique()):\n",
    "        os.makedirs(f\"{dest_dir}/{i}\")\n",
    "    df.apply(lambda x: shutil.copy(x['files'], f\"{dest_dir}/{x['class']}/{x['filename']}\"), axis =1)\n",
    "        \n",
    "        \n",
    "\n",
    "   "
   ]
  },
  {
   "cell_type": "code",
   "execution_count": 55,
   "metadata": {},
   "outputs": [
    {
     "name": "stderr",
     "output_type": "stream",
     "text": [
      "100%|██████████| 66/66 [00:00<00:00, 24981.87it/s]\n"
     ]
    }
   ],
   "source": [
    "rename_files(df, dest_dir =\"processed\") "
   ]
  },
  {
   "cell_type": "code",
   "execution_count": 57,
   "metadata": {},
   "outputs": [
    {
     "name": "stdout",
     "output_type": "stream",
     "text": [
      "Collecting fastai\n",
      "\u001b[?25l  Downloading https://files.pythonhosted.org/packages/50/6d/9d0d6e17a78b0598d5e8c49a0d03ffc7ff265ae62eca3e2345fab14edb9b/fastai-0.7.0-py3-none-any.whl (112kB)\n",
      "\u001b[K    100% |████████████████████████████████| 122kB 3.1MB/s ta 0:00:01\n",
      "\u001b[?25hRequirement already satisfied: ipykernel in ./anaconda3/envs/fastai/lib/python3.6/site-packages (from fastai) (4.8.2)\n",
      "Requirement already satisfied: ptyprocess in ./anaconda3/envs/fastai/lib/python3.6/site-packages (from fastai) (0.6.0)\n",
      "Requirement already satisfied: pyzmq in ./anaconda3/envs/fastai/lib/python3.6/site-packages (from fastai) (17.1.2)\n",
      "Requirement already satisfied: torch<0.4 in ./anaconda3/envs/fastai/lib/python3.6/site-packages (from fastai) (0.3.1.post2)\n",
      "Requirement already satisfied: ipython in ./anaconda3/envs/fastai/lib/python3.6/site-packages (from fastai) (6.5.0)\n",
      "Requirement already satisfied: widgetsnbextension in ./anaconda3/envs/fastai/lib/python3.6/site-packages (from fastai) (3.4.0)\n",
      "Requirement already satisfied: pyparsing in ./anaconda3/envs/fastai/lib/python3.6/site-packages (from fastai) (2.2.0)\n",
      "Requirement already satisfied: seaborn in ./anaconda3/envs/fastai/lib/python3.6/site-packages (from fastai) (0.9.0)\n",
      "Requirement already satisfied: torchtext in ./anaconda3/envs/fastai/lib/python3.6/site-packages (from fastai) (0.2.3)\n",
      "Requirement already satisfied: entrypoints in ./anaconda3/envs/fastai/lib/python3.6/site-packages (from fastai) (0.2.3)\n",
      "Requirement already satisfied: feather-format in ./anaconda3/envs/fastai/lib/python3.6/site-packages (from fastai) (0.4.0)\n",
      "Requirement already satisfied: testpath in ./anaconda3/envs/fastai/lib/python3.6/site-packages (from fastai) (0.3.1)\n",
      "Requirement already satisfied: decorator in ./anaconda3/envs/fastai/lib/python3.6/site-packages (from fastai) (4.3.0)\n",
      "Requirement already satisfied: wcwidth in ./anaconda3/envs/fastai/lib/python3.6/site-packages (from fastai) (0.1.7)\n",
      "Requirement already satisfied: ipywidgets in ./anaconda3/envs/fastai/lib/python3.6/site-packages (from fastai) (7.4.0)\n",
      "Requirement already satisfied: sklearn-pandas in ./anaconda3/envs/fastai/lib/python3.6/site-packages (from fastai) (1.6.0)\n",
      "Requirement already satisfied: cycler in ./anaconda3/envs/fastai/lib/python3.6/site-packages (from fastai) (0.10.0)\n",
      "Requirement already satisfied: opencv-python in ./anaconda3/envs/fastai/lib/python3.6/site-packages (from fastai) (3.4.2.17)\n",
      "Requirement already satisfied: plotnine in ./anaconda3/envs/fastai/lib/python3.6/site-packages (from fastai) (0.4.0)\n",
      "Requirement already satisfied: bleach in ./anaconda3/envs/fastai/lib/python3.6/site-packages (from fastai) (2.1.3)\n",
      "Requirement already satisfied: PyYAML in ./anaconda3/envs/fastai/lib/python3.6/site-packages (from fastai) (3.12)\n",
      "Requirement already satisfied: traitlets in ./anaconda3/envs/fastai/lib/python3.6/site-packages (from fastai) (4.3.2)\n",
      "Requirement already satisfied: webencodings in ./anaconda3/envs/fastai/lib/python3.6/site-packages (from fastai) (0.5)\n",
      "Requirement already satisfied: torchvision in ./anaconda3/envs/fastai/lib/python3.6/site-packages (from fastai) (0.2.1)\n",
      "Requirement already satisfied: matplotlib in ./anaconda3/envs/fastai/lib/python3.6/site-packages (from fastai) (2.2.2)\n",
      "Requirement already satisfied: tqdm in ./anaconda3/envs/fastai/lib/python3.6/site-packages (from fastai) (4.24.0)\n",
      "Requirement already satisfied: python-dateutil in ./anaconda3/envs/fastai/lib/python3.6/site-packages (from fastai) (2.7.3)\n",
      "Requirement already satisfied: numpy in ./anaconda3/envs/fastai/lib/python3.6/site-packages (from fastai) (1.15.0)\n",
      "Requirement already satisfied: certifi in ./anaconda3/envs/fastai/lib/python3.6/site-packages (from fastai) (2018.4.16)\n",
      "Requirement already satisfied: scipy in ./anaconda3/envs/fastai/lib/python3.6/site-packages (from fastai) (1.1.0)\n",
      "Requirement already satisfied: ipython-genutils in ./anaconda3/envs/fastai/lib/python3.6/site-packages (from fastai) (0.2.0)\n",
      "Requirement already satisfied: pickleshare in ./anaconda3/envs/fastai/lib/python3.6/site-packages (from fastai) (0.7.4)\n",
      "Requirement already satisfied: MarkupSafe in ./anaconda3/envs/fastai/lib/python3.6/site-packages (from fastai) (1.0)\n",
      "Requirement already satisfied: Jinja2 in ./anaconda3/envs/fastai/lib/python3.6/site-packages (from fastai) (2.10)\n",
      "Requirement already satisfied: jupyter in ./anaconda3/envs/fastai/lib/python3.6/site-packages (from fastai) (1.0.0)\n",
      "Requirement already satisfied: html5lib in ./anaconda3/envs/fastai/lib/python3.6/site-packages (from fastai) (1.0.1)\n",
      "Requirement already satisfied: Pillow in ./anaconda3/envs/fastai/lib/python3.6/site-packages (from fastai) (5.2.0)\n",
      "Requirement already satisfied: bcolz in ./anaconda3/envs/fastai/lib/python3.6/site-packages (from fastai) (1.2.1)\n",
      "Requirement already satisfied: pytz in ./anaconda3/envs/fastai/lib/python3.6/site-packages (from fastai) (2018.5)\n",
      "Requirement already satisfied: pandas in ./anaconda3/envs/fastai/lib/python3.6/site-packages (from fastai) (0.23.4)\n",
      "Requirement already satisfied: Pygments in ./anaconda3/envs/fastai/lib/python3.6/site-packages (from fastai) (2.2.0)\n",
      "Requirement already satisfied: tornado in ./anaconda3/envs/fastai/lib/python3.6/site-packages (from fastai) (4.5.3)\n",
      "Requirement already satisfied: jsonschema in ./anaconda3/envs/fastai/lib/python3.6/site-packages (from fastai) (2.6.0)\n",
      "Requirement already satisfied: graphviz in ./anaconda3/envs/fastai/lib/python3.6/site-packages (from fastai) (0.8.4)\n",
      "Requirement already satisfied: isoweek in ./anaconda3/envs/fastai/lib/python3.6/site-packages (from fastai) (1.3.3)\n",
      "Requirement already satisfied: jedi in ./anaconda3/envs/fastai/lib/python3.6/site-packages (from fastai) (0.12.1)\n",
      "Requirement already satisfied: simplegeneric in ./anaconda3/envs/fastai/lib/python3.6/site-packages (from fastai) (0.8.1)\n",
      "Requirement already satisfied: pandas-summary in ./anaconda3/envs/fastai/lib/python3.6/site-packages (from fastai) (0.0.5)\n",
      "Requirement already satisfied: jupyter-client in ./anaconda3/envs/fastai/lib/python3.6/site-packages (from ipykernel->fastai) (5.2.3)\n",
      "Requirement already satisfied: prompt-toolkit<2.0.0,>=1.0.15 in ./anaconda3/envs/fastai/lib/python3.6/site-packages (from ipython->fastai) (1.0.15)\n",
      "Requirement already satisfied: backcall in ./anaconda3/envs/fastai/lib/python3.6/site-packages (from ipython->fastai) (0.1.0)\n",
      "Requirement already satisfied: setuptools>=18.5 in ./anaconda3/envs/fastai/lib/python3.6/site-packages (from ipython->fastai) (40.0.0)\n",
      "Requirement already satisfied: pexpect; sys_platform != \"win32\" in ./anaconda3/envs/fastai/lib/python3.6/site-packages (from ipython->fastai) (4.6.0)\n",
      "Requirement already satisfied: notebook>=4.4.1 in ./anaconda3/envs/fastai/lib/python3.6/site-packages (from widgetsnbextension->fastai) (5.6.0)\n",
      "Requirement already satisfied: requests in ./anaconda3/envs/fastai/lib/python3.6/site-packages (from torchtext->fastai) (2.19.1)\n",
      "Requirement already satisfied: pyarrow>=0.4.0 in ./anaconda3/envs/fastai/lib/python3.6/site-packages (from feather-format->fastai) (0.10.0)\n",
      "Requirement already satisfied: nbformat>=4.2.0 in ./anaconda3/envs/fastai/lib/python3.6/site-packages (from ipywidgets->fastai) (4.4.0)\n",
      "Requirement already satisfied: scikit-learn>=0.15.0 in ./anaconda3/envs/fastai/lib/python3.6/site-packages (from sklearn-pandas->fastai) (0.19.2)\n",
      "Requirement already satisfied: six in ./anaconda3/envs/fastai/lib/python3.6/site-packages (from cycler->fastai) (1.11.0)\n",
      "Requirement already satisfied: geopandas>=0.3.0 in ./anaconda3/envs/fastai/lib/python3.6/site-packages (from plotnine->fastai) (0.4.0)\n",
      "Requirement already satisfied: patsy>=0.4.1 in ./anaconda3/envs/fastai/lib/python3.6/site-packages (from plotnine->fastai) (0.5.0)\n",
      "Requirement already satisfied: mizani>=0.4.5 in ./anaconda3/envs/fastai/lib/python3.6/site-packages (from plotnine->fastai) (0.4.6)\n",
      "Requirement already satisfied: statsmodels>=0.8.0 in ./anaconda3/envs/fastai/lib/python3.6/site-packages (from plotnine->fastai) (0.9.0)\n",
      "Requirement already satisfied: descartes>=1.1.0 in ./anaconda3/envs/fastai/lib/python3.6/site-packages (from plotnine->fastai) (1.1.0)\n",
      "Requirement already satisfied: kiwisolver>=1.0.1 in ./anaconda3/envs/fastai/lib/python3.6/site-packages (from matplotlib->fastai) (1.0.1)\n",
      "Requirement already satisfied: jupyter-console in ./anaconda3/envs/fastai/lib/python3.6/site-packages (from jupyter->fastai) (5.2.0)\n",
      "Requirement already satisfied: qtconsole in ./anaconda3/envs/fastai/lib/python3.6/site-packages (from jupyter->fastai) (4.3.1)\n",
      "Requirement already satisfied: nbconvert in ./anaconda3/envs/fastai/lib/python3.6/site-packages (from jupyter->fastai) (5.3.1)\n",
      "Requirement already satisfied: parso>=0.3.0 in ./anaconda3/envs/fastai/lib/python3.6/site-packages (from jedi->fastai) (0.3.1)\n",
      "Requirement already satisfied: jupyter_core in ./anaconda3/envs/fastai/lib/python3.6/site-packages (from jupyter-client->ipykernel->fastai) (4.4.0)\n"
     ]
    },
    {
     "name": "stdout",
     "output_type": "stream",
     "text": [
      "Requirement already satisfied: Send2Trash in ./anaconda3/envs/fastai/lib/python3.6/site-packages (from notebook>=4.4.1->widgetsnbextension->fastai) (1.5.0)\n",
      "Requirement already satisfied: terminado>=0.8.1 in ./anaconda3/envs/fastai/lib/python3.6/site-packages (from notebook>=4.4.1->widgetsnbextension->fastai) (0.8.1)\n",
      "Requirement already satisfied: prometheus_client in ./anaconda3/envs/fastai/lib/python3.6/site-packages (from notebook>=4.4.1->widgetsnbextension->fastai) (0.3.0)\n",
      "Requirement already satisfied: chardet<3.1.0,>=3.0.2 in ./anaconda3/envs/fastai/lib/python3.6/site-packages (from requests->torchtext->fastai) (3.0.4)\n",
      "Requirement already satisfied: urllib3<1.24,>=1.21.1 in ./anaconda3/envs/fastai/lib/python3.6/site-packages (from requests->torchtext->fastai) (1.23)\n",
      "Requirement already satisfied: idna<2.8,>=2.5 in ./anaconda3/envs/fastai/lib/python3.6/site-packages (from requests->torchtext->fastai) (2.7)\n",
      "Requirement already satisfied: fiona in ./anaconda3/envs/fastai/lib/python3.6/site-packages (from geopandas>=0.3.0->plotnine->fastai) (1.7.13)\n",
      "Requirement already satisfied: pyproj in ./anaconda3/envs/fastai/lib/python3.6/site-packages (from geopandas>=0.3.0->plotnine->fastai) (1.9.5.1)\n",
      "Requirement already satisfied: shapely in ./anaconda3/envs/fastai/lib/python3.6/site-packages (from geopandas>=0.3.0->plotnine->fastai) (1.6.4.post2)\n",
      "Requirement already satisfied: palettable in ./anaconda3/envs/fastai/lib/python3.6/site-packages (from mizani>=0.4.5->plotnine->fastai) (3.1.1)\n",
      "Requirement already satisfied: mistune>=0.7.4 in ./anaconda3/envs/fastai/lib/python3.6/site-packages (from nbconvert->jupyter->fastai) (0.8.3)\n",
      "Requirement already satisfied: pandocfilters>=1.4.1 in ./anaconda3/envs/fastai/lib/python3.6/site-packages (from nbconvert->jupyter->fastai) (1.4.2)\n",
      "Requirement already satisfied: cligj>=0.4 in ./anaconda3/envs/fastai/lib/python3.6/site-packages (from fiona->geopandas>=0.3.0->plotnine->fastai) (0.4.0)\n",
      "Requirement already satisfied: munch in ./anaconda3/envs/fastai/lib/python3.6/site-packages (from fiona->geopandas>=0.3.0->plotnine->fastai) (2.3.2)\n",
      "Requirement already satisfied: click-plugins in ./anaconda3/envs/fastai/lib/python3.6/site-packages (from fiona->geopandas>=0.3.0->plotnine->fastai) (1.0.3)\n",
      "Requirement already satisfied: click>=4.0 in ./anaconda3/envs/fastai/lib/python3.6/site-packages (from cligj>=0.4->fiona->geopandas>=0.3.0->plotnine->fastai) (6.7)\n",
      "Installing collected packages: fastai\n",
      "Successfully installed fastai-0.7.0\n"
     ]
    }
   ],
   "source": [
    "!pip install fastai"
   ]
  },
  {
   "cell_type": "code",
   "execution_count": 87,
   "metadata": {},
   "outputs": [],
   "source": [
    "import fastai\n",
    "from fastai.imports import *\n",
    "from fastai.transforms import *\n",
    "from fastai.conv_learner import *\n",
    "from fastai.model import *\n",
    "from fastai.dataset import *\n",
    "from fastai.sgdr import *\n",
    "from fastai.plots import *\n",
    "from glob import glob\n",
    "import pandas as pd\n",
    "#import helper\n",
    "from tqdm import tqdm\n",
    "import hashlib\n",
    "from urllib import request"
   ]
  },
  {
   "cell_type": "code",
   "execution_count": 3,
   "metadata": {},
   "outputs": [
    {
     "name": "stderr",
     "output_type": "stream",
     "text": [
      "UsageError: Cell magic `%%matplotlibmatplotl` not found.\n"
     ]
    }
   ],
   "source": [
    "\n",
    "%%matplotlibmatplotl  inline\n",
    "%load_ext autoreload\n",
    "\n",
    "%autoreload 2\n",
    "\n",
    "%%reload_extreload_e  autoreload\n"
   ]
  },
  {
   "cell_type": "code",
   "execution_count": 6,
   "metadata": {},
   "outputs": [],
   "source": [
    "\n",
    "PATH  =  \"processed/\""
   ]
  },
  {
   "cell_type": "code",
   "execution_count": 7,
   "metadata": {},
   "outputs": [
    {
     "name": "stdout",
     "output_type": "stream",
     "text": [
      "Object `ImageClassifierDataImageCla` not found.\n"
     ]
    }
   ],
   "source": [
    "\n",
    "??ImageClassifierDataImageCla .from_paths"
   ]
  },
  {
   "cell_type": "code",
   "execution_count": 8,
   "metadata": {},
   "outputs": [],
   "source": [
    "!rm -rf data/tmp"
   ]
  },
  {
   "cell_type": "code",
   "execution_count": 91,
   "metadata": {},
   "outputs": [],
   "source": [
    "import numpy as np\n",
    "from sklearn.model_selection import train_test_split\n",
    "import matplotlib.pyplot as plt"
   ]
  },
  {
   "cell_type": "markdown",
   "metadata": {},
   "source": [
    "## create train and test sets"
   ]
  },
  {
   "cell_type": "code",
   "execution_count": 35,
   "metadata": {},
   "outputs": [],
   "source": [
    "df['file_path'] = df.apply(lambda x: f\"processed/{x['class']}/{x['filename']}\", axis = 1)"
   ]
  },
  {
   "cell_type": "code",
   "execution_count": 44,
   "metadata": {},
   "outputs": [],
   "source": [
    "df['file_path_short'] = df.apply(lambda x: f\"{x['class']}/{x['filename']}\", axis = 1)"
   ]
  },
  {
   "cell_type": "code",
   "execution_count": 92,
   "metadata": {},
   "outputs": [
    {
     "data": {
      "text/html": [
       "<div>\n",
       "<style scoped>\n",
       "    .dataframe tbody tr th:only-of-type {\n",
       "        vertical-align: middle;\n",
       "    }\n",
       "\n",
       "    .dataframe tbody tr th {\n",
       "        vertical-align: top;\n",
       "    }\n",
       "\n",
       "    .dataframe thead th {\n",
       "        text-align: right;\n",
       "    }\n",
       "</style>\n",
       "<table border=\"1\" class=\"dataframe\">\n",
       "  <thead>\n",
       "    <tr style=\"text-align: right;\">\n",
       "      <th></th>\n",
       "      <th>class</th>\n",
       "      <th>filename</th>\n",
       "      <th>files</th>\n",
       "      <th>file_path</th>\n",
       "      <th>file_path_short</th>\n",
       "    </tr>\n",
       "  </thead>\n",
       "  <tbody>\n",
       "    <tr>\n",
       "      <th>0</th>\n",
       "      <td>asiatic_dayflower</td>\n",
       "      <td>19._commelina_communis_l1.jpg</td>\n",
       "      <td>edible_plants/ asiatic dayflower/19. commelina...</td>\n",
       "      <td>processed/asiatic_dayflower/19._commelina_comm...</td>\n",
       "      <td>asiatic_dayflower/19._commelina_communis_l1.jpg</td>\n",
       "    </tr>\n",
       "    <tr>\n",
       "      <th>1</th>\n",
       "      <td>asiatic_dayflower</td>\n",
       "      <td>40._dayflower-creamed-sm.jpg</td>\n",
       "      <td>edible_plants/ asiatic dayflower/40. dayflower...</td>\n",
       "      <td>processed/asiatic_dayflower/40._dayflower-crea...</td>\n",
       "      <td>asiatic_dayflower/40._dayflower-creamed-sm.jpg</td>\n",
       "    </tr>\n",
       "    <tr>\n",
       "      <th>2</th>\n",
       "      <td>asiatic_dayflower</td>\n",
       "      <td>91._asiatic-dayflower.jpg</td>\n",
       "      <td>edible_plants/ asiatic dayflower/91. asiatic-d...</td>\n",
       "      <td>processed/asiatic_dayflower/91._asiatic-dayflo...</td>\n",
       "      <td>asiatic_dayflower/91._asiatic-dayflower.jpg</td>\n",
       "    </tr>\n",
       "    <tr>\n",
       "      <th>3</th>\n",
       "      <td>asiatic_dayflower</td>\n",
       "      <td>6._220px-c.communis_after_rain.jpg</td>\n",
       "      <td>edible_plants/ asiatic dayflower/6. 220px-c.co...</td>\n",
       "      <td>processed/asiatic_dayflower/6._220px-c.communi...</td>\n",
       "      <td>asiatic_dayflower/6._220px-c.communis_after_ra...</td>\n",
       "    </tr>\n",
       "    <tr>\n",
       "      <th>4</th>\n",
       "      <td>asiatic_dayflower</td>\n",
       "      <td>8._dayflowerasiatic01.jpg</td>\n",
       "      <td>edible_plants/ asiatic dayflower/8. dayflowera...</td>\n",
       "      <td>processed/asiatic_dayflower/8._dayflowerasiati...</td>\n",
       "      <td>asiatic_dayflower/8._dayflowerasiatic01.jpg</td>\n",
       "    </tr>\n",
       "  </tbody>\n",
       "</table>\n",
       "</div>"
      ],
      "text/plain": [
       "               class                            filename  \\\n",
       "0  asiatic_dayflower       19._commelina_communis_l1.jpg   \n",
       "1  asiatic_dayflower        40._dayflower-creamed-sm.jpg   \n",
       "2  asiatic_dayflower           91._asiatic-dayflower.jpg   \n",
       "3  asiatic_dayflower  6._220px-c.communis_after_rain.jpg   \n",
       "4  asiatic_dayflower           8._dayflowerasiatic01.jpg   \n",
       "\n",
       "                                               files  \\\n",
       "0  edible_plants/ asiatic dayflower/19. commelina...   \n",
       "1  edible_plants/ asiatic dayflower/40. dayflower...   \n",
       "2  edible_plants/ asiatic dayflower/91. asiatic-d...   \n",
       "3  edible_plants/ asiatic dayflower/6. 220px-c.co...   \n",
       "4  edible_plants/ asiatic dayflower/8. dayflowera...   \n",
       "\n",
       "                                           file_path  \\\n",
       "0  processed/asiatic_dayflower/19._commelina_comm...   \n",
       "1  processed/asiatic_dayflower/40._dayflower-crea...   \n",
       "2  processed/asiatic_dayflower/91._asiatic-dayflo...   \n",
       "3  processed/asiatic_dayflower/6._220px-c.communi...   \n",
       "4  processed/asiatic_dayflower/8._dayflowerasiati...   \n",
       "\n",
       "                                     file_path_short  \n",
       "0    asiatic_dayflower/19._commelina_communis_l1.jpg  \n",
       "1     asiatic_dayflower/40._dayflower-creamed-sm.jpg  \n",
       "2        asiatic_dayflower/91._asiatic-dayflower.jpg  \n",
       "3  asiatic_dayflower/6._220px-c.communis_after_ra...  \n",
       "4        asiatic_dayflower/8._dayflowerasiatic01.jpg  "
      ]
     },
     "execution_count": 92,
     "metadata": {},
     "output_type": "execute_result"
    }
   ],
   "source": [
    "df.head()"
   ]
  },
  {
   "cell_type": "code",
   "execution_count": 95,
   "metadata": {},
   "outputs": [],
   "source": [
    "def is_valid(x):\n",
    "    try:\n",
    "        plt.imread(x)\n",
    "        return 1\n",
    "    except:\n",
    "        return 0"
   ]
  },
  {
   "cell_type": "code",
   "execution_count": 96,
   "metadata": {},
   "outputs": [],
   "source": [
    "df['is_corrupt'] = df['files'].apply(lambda x: is_valid(x))"
   ]
  },
  {
   "cell_type": "code",
   "execution_count": 98,
   "metadata": {},
   "outputs": [
    {
     "data": {
      "text/plain": [
       "1    6062\n",
       "0      49\n",
       "Name: is_corrupt, dtype: int64"
      ]
     },
     "execution_count": 98,
     "metadata": {},
     "output_type": "execute_result"
    }
   ],
   "source": [
    "df.is_corrupt.value_counts()"
   ]
  },
  {
   "cell_type": "code",
   "execution_count": 99,
   "metadata": {},
   "outputs": [],
   "source": [
    "df_val = df.loc[df['is_corrupt']==1]"
   ]
  },
  {
   "cell_type": "code",
   "execution_count": 45,
   "metadata": {},
   "outputs": [],
   "source": [
    "ydata = df['class']"
   ]
  },
  {
   "cell_type": "code",
   "execution_count": 53,
   "metadata": {},
   "outputs": [],
   "source": [
    "xdata = df[['file_path', 'file_path_short', 'class', 'filename']]"
   ]
  },
  {
   "cell_type": "code",
   "execution_count": 54,
   "metadata": {},
   "outputs": [
    {
     "data": {
      "text/html": [
       "<div>\n",
       "<style scoped>\n",
       "    .dataframe tbody tr th:only-of-type {\n",
       "        vertical-align: middle;\n",
       "    }\n",
       "\n",
       "    .dataframe tbody tr th {\n",
       "        vertical-align: top;\n",
       "    }\n",
       "\n",
       "    .dataframe thead th {\n",
       "        text-align: right;\n",
       "    }\n",
       "</style>\n",
       "<table border=\"1\" class=\"dataframe\">\n",
       "  <thead>\n",
       "    <tr style=\"text-align: right;\">\n",
       "      <th></th>\n",
       "      <th>class</th>\n",
       "      <th>filename</th>\n",
       "      <th>files</th>\n",
       "      <th>file_path</th>\n",
       "      <th>file_path_short</th>\n",
       "    </tr>\n",
       "  </thead>\n",
       "  <tbody>\n",
       "    <tr>\n",
       "      <th>0</th>\n",
       "      <td>asiatic_dayflower</td>\n",
       "      <td>19._commelina_communis_l1.jpg</td>\n",
       "      <td>edible_plants/ asiatic dayflower/19. commelina...</td>\n",
       "      <td>processed/asiatic_dayflower/19._commelina_comm...</td>\n",
       "      <td>asiatic_dayflower/19._commelina_communis_l1.jpg</td>\n",
       "    </tr>\n",
       "    <tr>\n",
       "      <th>1</th>\n",
       "      <td>asiatic_dayflower</td>\n",
       "      <td>40._dayflower-creamed-sm.jpg</td>\n",
       "      <td>edible_plants/ asiatic dayflower/40. dayflower...</td>\n",
       "      <td>processed/asiatic_dayflower/40._dayflower-crea...</td>\n",
       "      <td>asiatic_dayflower/40._dayflower-creamed-sm.jpg</td>\n",
       "    </tr>\n",
       "    <tr>\n",
       "      <th>2</th>\n",
       "      <td>asiatic_dayflower</td>\n",
       "      <td>91._asiatic-dayflower.jpg</td>\n",
       "      <td>edible_plants/ asiatic dayflower/91. asiatic-d...</td>\n",
       "      <td>processed/asiatic_dayflower/91._asiatic-dayflo...</td>\n",
       "      <td>asiatic_dayflower/91._asiatic-dayflower.jpg</td>\n",
       "    </tr>\n",
       "    <tr>\n",
       "      <th>3</th>\n",
       "      <td>asiatic_dayflower</td>\n",
       "      <td>6._220px-c.communis_after_rain.jpg</td>\n",
       "      <td>edible_plants/ asiatic dayflower/6. 220px-c.co...</td>\n",
       "      <td>processed/asiatic_dayflower/6._220px-c.communi...</td>\n",
       "      <td>asiatic_dayflower/6._220px-c.communis_after_ra...</td>\n",
       "    </tr>\n",
       "    <tr>\n",
       "      <th>4</th>\n",
       "      <td>asiatic_dayflower</td>\n",
       "      <td>8._dayflowerasiatic01.jpg</td>\n",
       "      <td>edible_plants/ asiatic dayflower/8. dayflowera...</td>\n",
       "      <td>processed/asiatic_dayflower/8._dayflowerasiati...</td>\n",
       "      <td>asiatic_dayflower/8._dayflowerasiatic01.jpg</td>\n",
       "    </tr>\n",
       "  </tbody>\n",
       "</table>\n",
       "</div>"
      ],
      "text/plain": [
       "               class                            filename  \\\n",
       "0  asiatic_dayflower       19._commelina_communis_l1.jpg   \n",
       "1  asiatic_dayflower        40._dayflower-creamed-sm.jpg   \n",
       "2  asiatic_dayflower           91._asiatic-dayflower.jpg   \n",
       "3  asiatic_dayflower  6._220px-c.communis_after_rain.jpg   \n",
       "4  asiatic_dayflower           8._dayflowerasiatic01.jpg   \n",
       "\n",
       "                                               files  \\\n",
       "0  edible_plants/ asiatic dayflower/19. commelina...   \n",
       "1  edible_plants/ asiatic dayflower/40. dayflower...   \n",
       "2  edible_plants/ asiatic dayflower/91. asiatic-d...   \n",
       "3  edible_plants/ asiatic dayflower/6. 220px-c.co...   \n",
       "4  edible_plants/ asiatic dayflower/8. dayflowera...   \n",
       "\n",
       "                                           file_path  \\\n",
       "0  processed/asiatic_dayflower/19._commelina_comm...   \n",
       "1  processed/asiatic_dayflower/40._dayflower-crea...   \n",
       "2  processed/asiatic_dayflower/91._asiatic-dayflo...   \n",
       "3  processed/asiatic_dayflower/6._220px-c.communi...   \n",
       "4  processed/asiatic_dayflower/8._dayflowerasiati...   \n",
       "\n",
       "                                     file_path_short  \n",
       "0    asiatic_dayflower/19._commelina_communis_l1.jpg  \n",
       "1     asiatic_dayflower/40._dayflower-creamed-sm.jpg  \n",
       "2        asiatic_dayflower/91._asiatic-dayflower.jpg  \n",
       "3  asiatic_dayflower/6._220px-c.communis_after_ra...  \n",
       "4        asiatic_dayflower/8._dayflowerasiatic01.jpg  "
      ]
     },
     "execution_count": 54,
     "metadata": {},
     "output_type": "execute_result"
    }
   ],
   "source": [
    "test = '19._commelina_communis_l1.jpg'"
   ]
  },
  {
   "cell_type": "code",
   "execution_count": 100,
   "metadata": {},
   "outputs": [],
   "source": [
    "X_train1, X_test1= train_test_split(df_val, test_size = 0.2, random_state = 1)"
   ]
  },
  {
   "cell_type": "code",
   "execution_count": 76,
   "metadata": {},
   "outputs": [
    {
     "data": {
      "text/html": [
       "<div>\n",
       "<style scoped>\n",
       "    .dataframe tbody tr th:only-of-type {\n",
       "        vertical-align: middle;\n",
       "    }\n",
       "\n",
       "    .dataframe tbody tr th {\n",
       "        vertical-align: top;\n",
       "    }\n",
       "\n",
       "    .dataframe thead th {\n",
       "        text-align: right;\n",
       "    }\n",
       "</style>\n",
       "<table border=\"1\" class=\"dataframe\">\n",
       "  <thead>\n",
       "    <tr style=\"text-align: right;\">\n",
       "      <th></th>\n",
       "      <th>class</th>\n",
       "      <th>filename</th>\n",
       "      <th>files</th>\n",
       "      <th>file_path</th>\n",
       "      <th>file_path_short</th>\n",
       "    </tr>\n",
       "  </thead>\n",
       "  <tbody>\n",
       "    <tr>\n",
       "      <th>1102</th>\n",
       "      <td>field_garlic</td>\n",
       "      <td>48._allium-oleraceum-ha-jvilchez1.jpg</td>\n",
       "      <td>edible_plants/ field garlic/48. allium-olerace...</td>\n",
       "      <td>processed/field_garlic/48._allium-oleraceum-ha...</td>\n",
       "      <td>field_garlic/48._allium-oleraceum-ha-jvilchez1...</td>\n",
       "    </tr>\n",
       "    <tr>\n",
       "      <th>329</th>\n",
       "      <td>amaranth</td>\n",
       "      <td>55._f31-2.jpg</td>\n",
       "      <td>edible_plants/amaranth/55. f31-2.jpg</td>\n",
       "      <td>processed/amaranth/55._f31-2.jpg</td>\n",
       "      <td>amaranth/55._f31-2.jpg</td>\n",
       "    </tr>\n",
       "    <tr>\n",
       "      <th>2271</th>\n",
       "      <td>salsify</td>\n",
       "      <td>34._frozen-salsify.jpg</td>\n",
       "      <td>edible_plants/ salsify/34. frozen-salsify.jpg</td>\n",
       "      <td>processed/salsify/34._frozen-salsify.jpg</td>\n",
       "      <td>salsify/34._frozen-salsify.jpg</td>\n",
       "    </tr>\n",
       "    <tr>\n",
       "      <th>1947</th>\n",
       "      <td>queen_anne's_lace</td>\n",
       "      <td>6._81qujqa9ztl._sx425_.jpg</td>\n",
       "      <td>edible_plants/ queen anne's lace/6. 81qujqa9zt...</td>\n",
       "      <td>processed/queen_anne's_lace/6._81qujqa9ztl._sx...</td>\n",
       "      <td>queen_anne's_lace/6._81qujqa9ztl._sx425_.jpg</td>\n",
       "    </tr>\n",
       "    <tr>\n",
       "      <th>5266</th>\n",
       "      <td>sow_thistle</td>\n",
       "      <td>25._prickly_sowthistle.jpg</td>\n",
       "      <td>edible_plants/ sow thistle/25. prickly_sowthis...</td>\n",
       "      <td>processed/sow_thistle/25._prickly_sowthistle.jpg</td>\n",
       "      <td>sow_thistle/25._prickly_sowthistle.jpg</td>\n",
       "    </tr>\n",
       "  </tbody>\n",
       "</table>\n",
       "</div>"
      ],
      "text/plain": [
       "                  class                               filename  \\\n",
       "1102       field_garlic  48._allium-oleraceum-ha-jvilchez1.jpg   \n",
       "329            amaranth                          55._f31-2.jpg   \n",
       "2271            salsify                 34._frozen-salsify.jpg   \n",
       "1947  queen_anne's_lace             6._81qujqa9ztl._sx425_.jpg   \n",
       "5266        sow_thistle             25._prickly_sowthistle.jpg   \n",
       "\n",
       "                                                  files  \\\n",
       "1102  edible_plants/ field garlic/48. allium-olerace...   \n",
       "329                edible_plants/amaranth/55. f31-2.jpg   \n",
       "2271      edible_plants/ salsify/34. frozen-salsify.jpg   \n",
       "1947  edible_plants/ queen anne's lace/6. 81qujqa9zt...   \n",
       "5266  edible_plants/ sow thistle/25. prickly_sowthis...   \n",
       "\n",
       "                                              file_path  \\\n",
       "1102  processed/field_garlic/48._allium-oleraceum-ha...   \n",
       "329                    processed/amaranth/55._f31-2.jpg   \n",
       "2271           processed/salsify/34._frozen-salsify.jpg   \n",
       "1947  processed/queen_anne's_lace/6._81qujqa9ztl._sx...   \n",
       "5266   processed/sow_thistle/25._prickly_sowthistle.jpg   \n",
       "\n",
       "                                        file_path_short  \n",
       "1102  field_garlic/48._allium-oleraceum-ha-jvilchez1...  \n",
       "329                              amaranth/55._f31-2.jpg  \n",
       "2271                     salsify/34._frozen-salsify.jpg  \n",
       "1947       queen_anne's_lace/6._81qujqa9ztl._sx425_.jpg  \n",
       "5266             sow_thistle/25._prickly_sowthistle.jpg  "
      ]
     },
     "execution_count": 76,
     "metadata": {},
     "output_type": "execute_result"
    }
   ],
   "source": [
    "X_train1.head()"
   ]
  },
  {
   "cell_type": "code",
   "execution_count": 77,
   "metadata": {},
   "outputs": [],
   "source": [
    "#copy files into train and validation folders\n",
    "def create_train_set(df, dest_dir):\n",
    "    shutil.rmtree(dest_dir, ignore_errors= True)\n",
    "    os.makedirs(dest_dir, exist_ok= True)\n",
    "    for i in tqdm(df['class'].unique()):\n",
    "        os.makedirs(f\"{dest_dir}/{i}\")\n",
    "    df.apply(lambda x: shutil.copy(x['files'], f\"{dest_dir}/{x['file_path_short']}\"), axis = 1)"
   ]
  },
  {
   "cell_type": "code",
   "execution_count": 101,
   "metadata": {},
   "outputs": [
    {
     "name": "stderr",
     "output_type": "stream",
     "text": [
      "\n",
      "  0%|          | 0/66 [00:00<?, ?it/s]\u001b[A\n",
      "100%|██████████| 66/66 [00:00<00:00, 14857.45it/s]\u001b[A"
     ]
    }
   ],
   "source": [
    "create_train_set(X_train1, dest_dir = \"model/train\")"
   ]
  },
  {
   "cell_type": "code",
   "execution_count": 102,
   "metadata": {},
   "outputs": [
    {
     "name": "stderr",
     "output_type": "stream",
     "text": [
      "\n",
      "  0%|          | 0/66 [00:00<?, ?it/s]\u001b[A\n",
      "100%|██████████| 66/66 [00:00<00:00, 12725.79it/s]\u001b[A"
     ]
    }
   ],
   "source": [
    "create_train_set(X_test1, dest_dir = \"model/valid\")"
   ]
  },
  {
   "cell_type": "code",
   "execution_count": 81,
   "metadata": {},
   "outputs": [],
   "source": [
    "\n",
    "def  get_dataget_data(sz, bs):\n",
    "    tfms = tfms_from_model(arch, sz, aug_tfms=transforms_side_on,\n",
    "                           max_zoom=1.1)\n",
    "    data = ImageClassifierData.from_paths(path='model'\n",
    "            , num_workers=8\n",
    "            , tfms=tfms, bs=bs)\n",
    "    #return data.resize(sz, 'tmp')\n",
    "    return data if sz>300 else data.resize(340, 'tmp')"
   ]
  },
  {
   "cell_type": "code",
   "execution_count": 82,
   "metadata": {},
   "outputs": [],
   "source": [
    "sz = 224 # size of image\n",
    "arch = resnet50 #model architecture.. model has 101 layers\n",
    "bs=32 # batch size; number of images to process at one time"
   ]
  },
  {
   "cell_type": "code",
   "execution_count": 88,
   "metadata": {},
   "outputs": [
    {
     "name": "stdout",
     "output_type": "stream",
     "text": [
      "Object `ConvLearnerConvLear.pretrained` not found.\n"
     ]
    }
   ],
   "source": [
    "??ConvLearnerConvLear.pretrained"
   ]
  },
  {
   "cell_type": "code",
   "execution_count": 120,
   "metadata": {},
   "outputs": [],
   "source": [
    "!rm -rf model/tmp"
   ]
  },
  {
   "cell_type": "code",
   "execution_count": 121,
   "metadata": {},
   "outputs": [
    {
     "data": {
      "application/vnd.jupyter.widget-view+json": {
       "model_id": "caa58611400e43c48f8d0adad8fe1bc2",
       "version_major": 2,
       "version_minor": 0
      },
      "text/plain": [
       "HBox(children=(IntProgress(value=0, max=6), HTML(value='')))"
      ]
     },
     "metadata": {},
     "output_type": "display_data"
    },
    {
     "name": "stdout",
     "output_type": "stream",
     "text": [
      " 43%|████▎     | 2089/4849 [00:51<01:08, 40.51it/s]"
     ]
    },
    {
     "name": "stderr",
     "output_type": "stream",
     "text": [
      "/home/stephanie.gline/anaconda3/envs/fastai/lib/python3.6/site-packages/PIL/Image.py:931: UserWarning: Palette images with Transparency   expressed in bytes should be converted to RGBA images\n",
      "  'to RGBA images')\n"
     ]
    },
    {
     "name": "stdout",
     "output_type": "stream",
     "text": [
      "100%|██████████| 152/152 [00:40<00:00,  3.73it/s]  \n",
      "100%|██████████| 38/38 [00:10<00:00,  3.72it/s]\n"
     ]
    },
    {
     "data": {
      "application/vnd.jupyter.widget-view+json": {
       "model_id": "e591c205c06244d2956e6006866194d5",
       "version_major": 2,
       "version_minor": 0
      },
      "text/plain": [
       "HBox(children=(IntProgress(value=0, description='Epoch', max=10), HTML(value='')))"
      ]
     },
     "metadata": {},
     "output_type": "display_data"
    },
    {
     "name": "stdout",
     "output_type": "stream",
     "text": [
      "epoch      trn_loss   val_loss   accuracy                   \n",
      "    0      2.712548   2.062063   0.502061  \n",
      "    1      1.902543   1.79448    0.549876                   \n",
      "    2      1.552643   1.686865   0.572135                   \n",
      "    3      1.312218   1.620974   0.588623                   \n",
      "    4      1.129046   1.647902   0.596043                   \n",
      "    5      1.017134   1.641053   0.591096                    \n",
      "    6      0.865157   1.638805   0.600165                    \n",
      "    7      0.76287    1.671709   0.58615                     \n",
      "    8      0.686312   1.684772   0.597692                    \n",
      "    9      0.605161   1.692239   0.603462                    \n"
     ]
    },
    {
     "data": {
      "text/plain": [
       "[array([1.69224]), 0.6034624890070363]"
      ]
     },
     "execution_count": 121,
     "metadata": {},
     "output_type": "execute_result"
    }
   ],
   "source": [
    "\n",
    "data  = get_dataget_data(sz, bs)\n",
    "learn = ConvLearner.pretrained(arch, data, precompute=True)\n",
    "learn.fit(lrs=1e-2, n_cycle=10)"
   ]
  },
  {
   "cell_type": "code",
   "execution_count": 122,
   "metadata": {},
   "outputs": [
    {
     "data": {
      "application/vnd.jupyter.widget-view+json": {
       "model_id": "b41fc97910bd4948a588494b0f8fd246",
       "version_major": 2,
       "version_minor": 0
      },
      "text/plain": [
       "HBox(children=(IntProgress(value=0, description='Epoch', max=5), HTML(value='')))"
      ]
     },
     "metadata": {},
     "output_type": "display_data"
    },
    {
     "name": "stdout",
     "output_type": "stream",
     "text": [
      "epoch      trn_loss   val_loss   accuracy                   \n",
      "    0      1.082711   1.662239   0.619951  \n",
      "    1      1.057926   1.67345    0.601814                   \n",
      "    2      1.048219   1.649564   0.604287                   \n",
      "    3      0.968217   1.636936   0.618302                    \n",
      "    4      0.990769   1.64846    0.611707                    \n"
     ]
    },
    {
     "data": {
      "text/plain": [
       "[array([1.64846]), 0.6117065126308212]"
      ]
     },
     "execution_count": 122,
     "metadata": {},
     "output_type": "execute_result"
    }
   ],
   "source": [
    "learn.precompute = False\n",
    "learn.fit(lrs=1e-2, n_cycle=5, cycle_len=1)"
   ]
  },
  {
   "cell_type": "code",
   "execution_count": 123,
   "metadata": {},
   "outputs": [],
   "source": [
    "\n",
    "learn.unfreeze()"
   ]
  },
  {
   "cell_type": "code",
   "execution_count": 124,
   "metadata": {},
   "outputs": [],
   "source": [
    "lr=1e-2\n",
    "lr=np.array([lr/18,lr/6,lr/2])"
   ]
  },
  {
   "cell_type": "code",
   "execution_count": 125,
   "metadata": {},
   "outputs": [
    {
     "data": {
      "application/vnd.jupyter.widget-view+json": {
       "model_id": "af34c92c2ad14879bdadffe41de2b678",
       "version_major": 2,
       "version_minor": 0
      },
      "text/plain": [
       "HBox(children=(IntProgress(value=0, description='Epoch', max=7), HTML(value='')))"
      ]
     },
     "metadata": {},
     "output_type": "display_data"
    },
    {
     "name": "stdout",
     "output_type": "stream",
     "text": [
      "epoch      trn_loss   val_loss   accuracy                   \n",
      "    0      1.590955   1.55215    0.621599  \n",
      "    1      1.310525   1.440945   0.645507                   \n",
      "    2      0.772209   1.294079   0.682605                    \n",
      "    3      0.930257   1.373822   0.669415                    \n",
      "    4      0.641344   1.301648   0.694971                    \n",
      "    5      0.40002    1.243502   0.718879                    \n",
      "    6      0.31853    1.22755    0.708986                    \n"
     ]
    },
    {
     "data": {
      "text/plain": [
       "[array([1.22755]), 0.7089859844728236]"
      ]
     },
     "execution_count": 125,
     "metadata": {},
     "output_type": "execute_result"
    }
   ],
   "source": [
    "learn.fit(lr, 3, cycle_len=1, cycle_mult=2)"
   ]
  },
  {
   "cell_type": "code",
   "execution_count": 126,
   "metadata": {},
   "outputs": [
    {
     "name": "stdout",
     "output_type": "stream",
     "text": [
      "                                             \r"
     ]
    },
    {
     "data": {
      "text/plain": [
       "(1.113683477496236, 0.72959604286892)"
      ]
     },
     "execution_count": 126,
     "metadata": {},
     "output_type": "execute_result"
    }
   ],
   "source": [
    "log_preds,y = learn.TTA()\n",
    "preds = np.mean(np.exp(log_preds),axis=0)\n",
    "(metrics.log_loss(y,preds), accuracy_np(preds,y))"
   ]
  },
  {
   "cell_type": "code",
   "execution_count": 127,
   "metadata": {},
   "outputs": [],
   "source": [
    "predicted_class = np.argmax(preds, axis=1)\n",
    "confidence = np.max(preds, axis=1)"
   ]
  },
  {
   "cell_type": "code",
   "execution_count": 128,
   "metadata": {},
   "outputs": [],
   "source": [
    "predictions_df = pd.DataFrame ({'actual': y, 'pred': predicted_class,'image':learn.data.val_ds.fnames,'conf':confidence})"
   ]
  },
  {
   "cell_type": "code",
   "execution_count": 130,
   "metadata": {},
   "outputs": [],
   "source": [
    "predictions_df['actual_class'] = predictions_df['actual'].apply(lambda x : data.classes[x])\n",
    "predictions_df['pred_class'] = predictions_df['pred'].apply(lambda x : data.classes[x])"
   ]
  },
  {
   "cell_type": "code",
   "execution_count": 133,
   "metadata": {},
   "outputs": [
    {
     "data": {
      "text/html": [
       "<div>\n",
       "<style scoped>\n",
       "    .dataframe tbody tr th:only-of-type {\n",
       "        vertical-align: middle;\n",
       "    }\n",
       "\n",
       "    .dataframe tbody tr th {\n",
       "        vertical-align: top;\n",
       "    }\n",
       "\n",
       "    .dataframe thead th {\n",
       "        text-align: right;\n",
       "    }\n",
       "</style>\n",
       "<table border=\"1\" class=\"dataframe\">\n",
       "  <thead>\n",
       "    <tr style=\"text-align: right;\">\n",
       "      <th></th>\n",
       "      <th>actual</th>\n",
       "      <th>pred</th>\n",
       "      <th>image</th>\n",
       "      <th>conf</th>\n",
       "      <th>actual_class</th>\n",
       "      <th>pred_class</th>\n",
       "    </tr>\n",
       "  </thead>\n",
       "  <tbody>\n",
       "    <tr>\n",
       "      <th>0</th>\n",
       "      <td>0</td>\n",
       "      <td>0</td>\n",
       "      <td>valid/amaranth/82._65ab3932d9845758.jpg</td>\n",
       "      <td>0.999997</td>\n",
       "      <td>amaranth</td>\n",
       "      <td>amaranth</td>\n",
       "    </tr>\n",
       "    <tr>\n",
       "      <th>1</th>\n",
       "      <td>0</td>\n",
       "      <td>52</td>\n",
       "      <td>valid/amaranth/35._amaranth-leaves-500x500.jpg</td>\n",
       "      <td>0.998498</td>\n",
       "      <td>amaranth</td>\n",
       "      <td>shiso</td>\n",
       "    </tr>\n",
       "    <tr>\n",
       "      <th>2</th>\n",
       "      <td>0</td>\n",
       "      <td>0</td>\n",
       "      <td>valid/amaranth/2._amaranth-nutrition-facts.jpg</td>\n",
       "      <td>0.999799</td>\n",
       "      <td>amaranth</td>\n",
       "      <td>amaranth</td>\n",
       "    </tr>\n",
       "    <tr>\n",
       "      <th>3</th>\n",
       "      <td>0</td>\n",
       "      <td>0</td>\n",
       "      <td>valid/amaranth/31._opopeofinal.jpg</td>\n",
       "      <td>0.999917</td>\n",
       "      <td>amaranth</td>\n",
       "      <td>amaranth</td>\n",
       "    </tr>\n",
       "    <tr>\n",
       "      <th>4</th>\n",
       "      <td>0</td>\n",
       "      <td>0</td>\n",
       "      <td>valid/amaranth/73._illumination-amaranth-x__38...</td>\n",
       "      <td>0.812320</td>\n",
       "      <td>amaranth</td>\n",
       "      <td>amaranth</td>\n",
       "    </tr>\n",
       "  </tbody>\n",
       "</table>\n",
       "</div>"
      ],
      "text/plain": [
       "   actual  pred                                              image      conf  \\\n",
       "0       0     0            valid/amaranth/82._65ab3932d9845758.jpg  0.999997   \n",
       "1       0    52     valid/amaranth/35._amaranth-leaves-500x500.jpg  0.998498   \n",
       "2       0     0     valid/amaranth/2._amaranth-nutrition-facts.jpg  0.999799   \n",
       "3       0     0                 valid/amaranth/31._opopeofinal.jpg  0.999917   \n",
       "4       0     0  valid/amaranth/73._illumination-amaranth-x__38...  0.812320   \n",
       "\n",
       "  actual_class pred_class  \n",
       "0     amaranth   amaranth  \n",
       "1     amaranth      shiso  \n",
       "2     amaranth   amaranth  \n",
       "3     amaranth   amaranth  \n",
       "4     amaranth   amaranth  "
      ]
     },
     "execution_count": 133,
     "metadata": {},
     "output_type": "execute_result"
    }
   ],
   "source": [
    "predictions_df.head()"
   ]
  },
  {
   "cell_type": "code",
   "execution_count": 134,
   "metadata": {},
   "outputs": [],
   "source": [
    "def predict_class(image_path):\n",
    "    trn_tfms, val_tfms = tfms_from_model(arch, sz)\n",
    "    im = val_tfms(np.array(open_image(image_path)))\n",
    "\n",
    "    preds = learn.predict_array(im[None])\n",
    "    class_idx = np.argmax(preds)\n",
    "    print(data.classes[class_idx],np.max(preds))\n",
    "    \n",
    "    img = PIL.Image.open(image_path);\n",
    "    #return img\n",
    "    \n",
    "    return helper.get_top_n_predictions(np.exp(preds), data.classes)\n",
    "    #return np.argmax(preds)\n",
    "\n",
    "def predict_class_web(url,ext=\"jpg\"):\n",
    "    url_hash = hashlib.md5(url.encode('utf-8')).hexdigest()\n",
    "    file_name = f'data/downloaded/{url_hash}.{ext}'\n",
    "    f = open(file_name, 'wb')\n",
    "    f.write(request.urlopen(url).read())\n",
    "    f.close()\n",
    "    \n",
    "    return predict_class(file_name)"
   ]
  },
  {
   "cell_type": "code",
   "execution_count": 135,
   "metadata": {},
   "outputs": [],
   "source": [
    "labels = learn.data.classes\n",
    "cm = confusion_matrix(predictions_df['actual'], predictions_df['pred'])"
   ]
  },
  {
   "cell_type": "code",
   "execution_count": 136,
   "metadata": {},
   "outputs": [
    {
     "data": {
      "image/png": "[encoded data removed]",
      "text/plain": [
       "<Figure size 3600x3600 with 2 Axes>"
      ]
     },
     "metadata": {},
     "output_type": "display_data"
    }
   ],
   "source": [
    "fig, ax = plt.subplots(figsize=(50, 50))\n",
    "_ = sns.heatmap(cm, ax=ax, yticklabels=labels, xticklabels=labels, robust=True)"
   ]
  },
  {
   "cell_type": "code",
   "execution_count": 142,
   "metadata": {},
   "outputs": [
    {
     "name": "stdout",
     "output_type": "stream",
     "text": [
      "--2018-08-10 23:09:44--  https://1rxbfb2hflyo2jt6jd3f6sjr-wpengine.netdna-ssl.com/wp-content/uploads/2015/11/HR1156-Red-Perilla-IMG_6079-510x600.jpg\n",
      "Resolving 1rxbfb2hflyo2jt6jd3f6sjr-wpengine.netdna-ssl.com (1rxbfb2hflyo2jt6jd3f6sjr-wpengine.netdna-ssl.com)... 94.31.29.96\n",
      "Connecting to 1rxbfb2hflyo2jt6jd3f6sjr-wpengine.netdna-ssl.com (1rxbfb2hflyo2jt6jd3f6sjr-wpengine.netdna-ssl.com)|94.31.29.96|:443... connected.\n",
      "HTTP request sent, awaiting response... 200 OK\n",
      "Length: 54408 (53K) [image/jpeg]\n",
      "Saving to: ‘HR1156-Red-Perilla-IMG_6079-510x600.jpg’\n",
      "\n",
      "HR1156-Red-Perilla- 100%[===================>]  53.13K  --.-KB/s    in 0.06s   \n",
      "\n",
      "2018-08-10 23:09:44 (881 KB/s) - ‘HR1156-Red-Perilla-IMG_6079-510x600.jpg’ saved [54408/54408]\n",
      "\n"
     ]
    }
   ],
   "source": [
    "!wget https://1rxbfb2hflyo2jt6jd3f6sjr-wpengine.netdna-ssl.com/wp-content/uploads/2015/11/HR1156-Red-Perilla-IMG_6079-510x600.jpg"
   ]
  },
  {
   "cell_type": "code",
   "execution_count": 145,
   "metadata": {},
   "outputs": [
    {
     "ename": "TypeError",
     "evalue": "Image data cannot be converted to float",
     "output_type": "error",
     "traceback": [
      "\u001b[0;31m---------------------------------------------------------------------------\u001b[0m",
      "\u001b[0;31mTypeError\u001b[0m                                 Traceback (most recent call last)",
      "\u001b[0;32m<ipython-input-145-38649e0b33f3>\u001b[0m in \u001b[0;36m<module>\u001b[0;34m()\u001b[0m\n\u001b[0;32m----> 1\u001b[0;31m \u001b[0mplt\u001b[0m\u001b[0;34m.\u001b[0m\u001b[0mimshow\u001b[0m\u001b[0;34m(\u001b[0m\u001b[0;34m'HR1156-Red-Perilla-IMG_6079-510x600.jpg'\u001b[0m\u001b[0;34m)\u001b[0m\u001b[0;34m\u001b[0m\u001b[0m\n\u001b[0m",
      "\u001b[0;32m~/anaconda3/envs/fastai/lib/python3.6/site-packages/matplotlib/pyplot.py\u001b[0m in \u001b[0;36mimshow\u001b[0;34m(X, cmap, norm, aspect, interpolation, alpha, vmin, vmax, origin, extent, shape, filternorm, filterrad, imlim, resample, url, hold, data, **kwargs)\u001b[0m\n\u001b[1;32m   3203\u001b[0m                         \u001b[0mfilternorm\u001b[0m\u001b[0;34m=\u001b[0m\u001b[0mfilternorm\u001b[0m\u001b[0;34m,\u001b[0m \u001b[0mfilterrad\u001b[0m\u001b[0;34m=\u001b[0m\u001b[0mfilterrad\u001b[0m\u001b[0;34m,\u001b[0m\u001b[0;34m\u001b[0m\u001b[0m\n\u001b[1;32m   3204\u001b[0m                         \u001b[0mimlim\u001b[0m\u001b[0;34m=\u001b[0m\u001b[0mimlim\u001b[0m\u001b[0;34m,\u001b[0m \u001b[0mresample\u001b[0m\u001b[0;34m=\u001b[0m\u001b[0mresample\u001b[0m\u001b[0;34m,\u001b[0m \u001b[0murl\u001b[0m\u001b[0;34m=\u001b[0m\u001b[0murl\u001b[0m\u001b[0;34m,\u001b[0m \u001b[0mdata\u001b[0m\u001b[0;34m=\u001b[0m\u001b[0mdata\u001b[0m\u001b[0;34m,\u001b[0m\u001b[0;34m\u001b[0m\u001b[0m\n\u001b[0;32m-> 3205\u001b[0;31m                         **kwargs)\n\u001b[0m\u001b[1;32m   3206\u001b[0m     \u001b[0;32mfinally\u001b[0m\u001b[0;34m:\u001b[0m\u001b[0;34m\u001b[0m\u001b[0m\n\u001b[1;32m   3207\u001b[0m         \u001b[0max\u001b[0m\u001b[0;34m.\u001b[0m\u001b[0m_hold\u001b[0m \u001b[0;34m=\u001b[0m \u001b[0mwashold\u001b[0m\u001b[0;34m\u001b[0m\u001b[0m\n",
      "\u001b[0;32m~/anaconda3/envs/fastai/lib/python3.6/site-packages/matplotlib/__init__.py\u001b[0m in \u001b[0;36minner\u001b[0;34m(ax, *args, **kwargs)\u001b[0m\n\u001b[1;32m   1853\u001b[0m                         \u001b[0;34m\"the Matplotlib list!)\"\u001b[0m \u001b[0;34m%\u001b[0m \u001b[0;34m(\u001b[0m\u001b[0mlabel_namer\u001b[0m\u001b[0;34m,\u001b[0m \u001b[0mfunc\u001b[0m\u001b[0;34m.\u001b[0m\u001b[0m__name__\u001b[0m\u001b[0;34m)\u001b[0m\u001b[0;34m,\u001b[0m\u001b[0;34m\u001b[0m\u001b[0m\n\u001b[1;32m   1854\u001b[0m                         RuntimeWarning, stacklevel=2)\n\u001b[0;32m-> 1855\u001b[0;31m             \u001b[0;32mreturn\u001b[0m \u001b[0mfunc\u001b[0m\u001b[0;34m(\u001b[0m\u001b[0max\u001b[0m\u001b[0;34m,\u001b[0m \u001b[0;34m*\u001b[0m\u001b[0margs\u001b[0m\u001b[0;34m,\u001b[0m \u001b[0;34m**\u001b[0m\u001b[0mkwargs\u001b[0m\u001b[0;34m)\u001b[0m\u001b[0;34m\u001b[0m\u001b[0m\n\u001b[0m\u001b[1;32m   1856\u001b[0m \u001b[0;34m\u001b[0m\u001b[0m\n\u001b[1;32m   1857\u001b[0m         inner.__doc__ = _add_data_doc(inner.__doc__,\n",
      "\u001b[0;32m~/anaconda3/envs/fastai/lib/python3.6/site-packages/matplotlib/axes/_axes.py\u001b[0m in \u001b[0;36mimshow\u001b[0;34m(self, X, cmap, norm, aspect, interpolation, alpha, vmin, vmax, origin, extent, shape, filternorm, filterrad, imlim, resample, url, **kwargs)\u001b[0m\n\u001b[1;32m   5485\u001b[0m                               resample=resample, **kwargs)\n\u001b[1;32m   5486\u001b[0m \u001b[0;34m\u001b[0m\u001b[0m\n\u001b[0;32m-> 5487\u001b[0;31m         \u001b[0mim\u001b[0m\u001b[0;34m.\u001b[0m\u001b[0mset_data\u001b[0m\u001b[0;34m(\u001b[0m\u001b[0mX\u001b[0m\u001b[0;34m)\u001b[0m\u001b[0;34m\u001b[0m\u001b[0m\n\u001b[0m\u001b[1;32m   5488\u001b[0m         \u001b[0mim\u001b[0m\u001b[0;34m.\u001b[0m\u001b[0mset_alpha\u001b[0m\u001b[0;34m(\u001b[0m\u001b[0malpha\u001b[0m\u001b[0;34m)\u001b[0m\u001b[0;34m\u001b[0m\u001b[0m\n\u001b[1;32m   5489\u001b[0m         \u001b[0;32mif\u001b[0m \u001b[0mim\u001b[0m\u001b[0;34m.\u001b[0m\u001b[0mget_clip_path\u001b[0m\u001b[0;34m(\u001b[0m\u001b[0;34m)\u001b[0m \u001b[0;32mis\u001b[0m \u001b[0;32mNone\u001b[0m\u001b[0;34m:\u001b[0m\u001b[0;34m\u001b[0m\u001b[0m\n",
      "\u001b[0;32m~/anaconda3/envs/fastai/lib/python3.6/site-packages/matplotlib/image.py\u001b[0m in \u001b[0;36mset_data\u001b[0;34m(self, A)\u001b[0m\n\u001b[1;32m    647\u001b[0m         if (self._A.dtype != np.uint8 and\n\u001b[1;32m    648\u001b[0m                 not np.can_cast(self._A.dtype, float, \"same_kind\")):\n\u001b[0;32m--> 649\u001b[0;31m             \u001b[0;32mraise\u001b[0m \u001b[0mTypeError\u001b[0m\u001b[0;34m(\u001b[0m\u001b[0;34m\"Image data cannot be converted to float\"\u001b[0m\u001b[0;34m)\u001b[0m\u001b[0;34m\u001b[0m\u001b[0m\n\u001b[0m\u001b[1;32m    650\u001b[0m \u001b[0;34m\u001b[0m\u001b[0m\n\u001b[1;32m    651\u001b[0m         if not (self._A.ndim == 2\n",
      "\u001b[0;31mTypeError\u001b[0m: Image data cannot be converted to float"
     ]
    },
    {
     "data": {
      "image/png": "[encoded data removed]",
      "text/plain": [
       "<Figure size 432x288 with 1 Axes>"
      ]
     },
     "metadata": {},
     "output_type": "display_data"
    }
   ],
   "source": [
    "plt.imshow('HR1156-Red-Perilla-IMG_6079-510x600.jpg')"
   ]
  },
  {
   "cell_type": "code",
   "execution_count": 148,
   "metadata": {},
   "outputs": [
    {
     "name": "stdout",
     "output_type": "stream",
     "text": [
      "--2018-08-10 23:12:34--  https://raw.githubusercontent.com/stephgline/fastai_bird_image_recognition/master/training/helper.py\n",
      "Resolving raw.githubusercontent.com (raw.githubusercontent.com)... 151.101.0.133, 151.101.64.133, 151.101.128.133, ...\n",
      "Connecting to raw.githubusercontent.com (raw.githubusercontent.com)|151.101.0.133|:443... connected.\n",
      "HTTP request sent, awaiting response... 200 OK\n",
      "Length: 1044 (1.0K) [text/plain]\n",
      "Saving to: ‘helper.py’\n",
      "\n",
      "helper.py           100%[===================>]   1.02K  --.-KB/s    in 0s      \n",
      "\n",
      "2018-08-10 23:12:34 (202 MB/s) - ‘helper.py’ saved [1044/1044]\n",
      "\n"
     ]
    }
   ],
   "source": [
    "!wget https://raw.githubusercontent.com/stephgline/fastai_bird_image_recognition/master/training/helper.py"
   ]
  },
  {
   "cell_type": "code",
   "execution_count": 151,
   "metadata": {},
   "outputs": [
    {
     "name": "stdout",
     "output_type": "stream",
     "text": [
      "daylily -1.3313041\n"
     ]
    },
    {
     "data": {
      "text/plain": [
       "[('shiso', 0.18323125),\n",
       " ('daylily', 0.2641326),\n",
       " ('juniper', 0.14443047),\n",
       " ('amaranth', 0.1301215),\n",
       " ('new_england_aster', 0.07868516)]"
      ]
     },
     "execution_count": 151,
     "metadata": {},
     "output_type": "execute_result"
    }
   ],
   "source": [
    "import helper\n",
    "url=\"https://2.bp.blogspot.com/-mPiwGK7yddc/Tq4QwEEDUqI/AAAAAAAAFPY/4k5g9LFUArg/s320/Shiso_comp+up+09132011_comp2.jpg\"\n",
    "predict_class_web(url)"
   ]
  },
  {
   "cell_type": "code",
   "execution_count": 139,
   "metadata": {},
   "outputs": [],
   "source": [
    "!mkdir data/downloaded"
   ]
  },
  {
   "cell_type": "code",
   "execution_count": null,
   "metadata": {},
   "outputs": [],
   "source": []
  }
 ],
 "metadata": {
  "kernelspec": {
   "display_name": "Python 3",
   "language": "python",
   "name": "python3"
  },
  "language_info": {
   "codemirror_mode": {
    "name": "ipython",
    "version": 3
   },
   "file_extension": ".py",
   "mimetype": "text/x-python",
   "name": "python",
   "nbconvert_exporter": "python",
   "pygments_lexer": "ipython3",
   "version": "3.6.6"
  }
 },
 "nbformat": 4,
 "nbformat_minor": 2
}
